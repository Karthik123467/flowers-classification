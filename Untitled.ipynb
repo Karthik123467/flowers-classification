{
 "cells": [
  {
   "cell_type": "code",
   "execution_count": 8,
   "id": "8e72945f-da6b-4eeb-a081-cfa07751bb9a",
   "metadata": {},
   "outputs": [
    {
     "name": "stdout",
     "output_type": "stream",
     "text": [
      "Name: gdown\n",
      "Version: 5.2.0\n",
      "Summary: Google Drive Public File/Folder Downloader\n",
      "Home-page: https://github.com/wkentaro/gdown\n",
      "Author: \n",
      "Author-email: Kentaro Wada <www.kentaro.wada@gmail.com>\n",
      "License: MIT\n",
      "Location: C:\\Users\\Admin\\anaconda3\\Lib\\site-packages\n",
      "Requires: beautifulsoup4, filelock, requests, tqdm\n",
      "Required-by: \n"
     ]
    }
   ],
   "source": [
    "!pip show gdown"
   ]
  },
  {
   "cell_type": "code",
   "execution_count": null,
   "id": "45d03bf4-91a2-4c26-b9ff-aafc10e90708",
   "metadata": {},
   "outputs": [],
   "source": [
    "streamlit==1.35.0\n",
    "tensorflow==2.12.0\n",
    "numpy==1.23.5\n",
    "pillow==9.5.0\n",
    "opencv-python==4.7.0.72\n",
    "matplotlib==3.7.1\n",
    "gdown==4.7.1"
   ]
  }
 ],
 "metadata": {
  "kernelspec": {
   "display_name": "Python [conda env:base] *",
   "language": "python",
   "name": "conda-base-py"
  },
  "language_info": {
   "codemirror_mode": {
    "name": "ipython",
    "version": 3
   },
   "file_extension": ".py",
   "mimetype": "text/x-python",
   "name": "python",
   "nbconvert_exporter": "python",
   "pygments_lexer": "ipython3",
   "version": "3.12.7"
  }
 },
 "nbformat": 4,
 "nbformat_minor": 5
}
